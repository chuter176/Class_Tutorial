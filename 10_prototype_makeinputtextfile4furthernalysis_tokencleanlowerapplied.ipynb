{
  "nbformat": 4,
  "nbformat_minor": 0,
  "metadata": {
    "colab": {
      "provenance": [],
      "include_colab_link": true
    },
    "kernelspec": {
      "name": "python3",
      "display_name": "Python 3"
    },
    "language_info": {
      "name": "python"
    }
  },
  "cells": [
    {
      "cell_type": "markdown",
      "metadata": {
        "id": "view-in-github",
        "colab_type": "text"
      },
      "source": [
        "<a href=\"https://colab.research.google.com/github/chuter176/Class_Tutorial/blob/main/10_prototype_makeinputtextfile4furthernalysis_tokencleanlowerapplied.ipynb\" target=\"_parent\"><img src=\"https://colab.research.google.com/assets/colab-badge.svg\" alt=\"Open In Colab\"/></a>"
      ]
    },
    {
      "cell_type": "markdown",
      "source": [
        "#1️⃣ <font color = 'red'> 🐹🐾 **Final Script to prepare input text for further analysis (e.g., Wordcloud, Lexical Diversity, etc.)**\n",
        "\n",
        "  - # <font color = 'blue'> 🐹🐾 **Important & Useful!**\n",
        "  - ### **This script is based on plain text for \"Household Stories by the Brothers Grimm\" under the Repository of \"PictureBook_Archive_inProgress\".**"
      ],
      "metadata": {
        "id": "DlRtfSQYdex6"
      }
    },
    {
      "cell_type": "code",
      "execution_count": null,
      "metadata": {
        "colab": {
          "base_uri": "https://localhost:8080/"
        },
        "id": "GT0LsgO85fCm",
        "outputId": "0ca6339c-39a4-4cbb-80d2-ab48da9b2210"
      },
      "outputs": [
        {
          "output_type": "stream",
          "name": "stdout",
          "text": [
            "Cloning into 'NLP_PictureBook_2025'...\n",
            "remote: Enumerating objects: 212, done.\u001b[K\n",
            "remote: Counting objects: 100% (91/91), done.\u001b[K\n",
            "remote: Compressing objects: 100% (76/76), done.\u001b[K\n",
            "remote: Total 212 (delta 56), reused 15 (delta 15), pack-reused 121 (from 1)\u001b[K\n",
            "Receiving objects: 100% (212/212), 1.10 MiB | 6.15 MiB/s, done.\n",
            "Resolving deltas: 100% (101/101), done.\n"
          ]
        }
      ],
      "source": [
        "! git clone https://github.com/ms624atyale/NLP_PictureBook_2025   #Make copy of the whole repository of a github account."
      ]
    },
    {
      "cell_type": "markdown",
      "source": [
        "##<font color = 'red'> 🆘 **ALERT**\n",
        "## <font color = 'red'> 🆘 **Important & Useful!**\n",
        "\n",
        "## ⤵️ In order to avoid setting a new repository being created as a subdirectory of the old one\n",
        "\n",
        "### <font color = 'blue'> <Python code>\n",
        "### <font color = 'blue'> %cd /content  # Moves to the default root directory in Google Colab\n",
        "\n",
        "## ⤵️ In order to delete the old directory forcefully\n",
        "\n",
        "### <font color = 'blue'> **▶️ Python code**\n",
        "### <font color = 'gray'> **! rm -rf NameofOldRepository**          \n",
        "\n",
        "### <font color = 'gray'> (e.g., **! rm -rf NLP_PictureBook_2025**)\n",
        "\n",
        "# **If this is not working out, rename the old, existing folder as <Eliminated> and drag the new repository under %content/.**\n"
      ],
      "metadata": {
        "id": "fPmvcdN0KP_0"
      }
    },
    {
      "cell_type": "markdown",
      "source": [
        "#2️⃣ 🐹🐾 **Set up the current directory**"
      ],
      "metadata": {
        "id": "7l39aMcg6QF8"
      }
    },
    {
      "cell_type": "code",
      "source": [
        "%cd /content/NLP_PictureBook_2025"
      ],
      "metadata": {
        "colab": {
          "base_uri": "https://localhost:8080/"
        },
        "id": "NyQD9Oxo7Me6",
        "outputId": "45b18101-9164-418e-9bed-9f63dd98d039"
      },
      "execution_count": null,
      "outputs": [
        {
          "output_type": "stream",
          "name": "stdout",
          "text": [
            "/content/NLP_PictureBook_2025\n"
          ]
        }
      ]
    },
    {
      "cell_type": "markdown",
      "source": [
        "#3️⃣ 🐹🐾 **Read the txt file**"
      ],
      "metadata": {
        "id": "ugQTa2Md66W5"
      }
    },
    {
      "cell_type": "code",
      "source": [
        "# ▶️1️⃣ You need to modify this codeline 🍩🎂🍎🍏🍦\n",
        "file = open(\"/content/NLP_PictureBook_2025/Data_PG_PT/1_BenjaminBunny_Body_BeatrixPotter.txt\", 'rt')\n",
        "\n",
        "txt = file.read()\n",
        "print(txt)\n",
        "file.close() #Using this close()function, you are no longer using your text file of the current workingdirectory with open()function."
      ],
      "metadata": {
        "id": "r_tn-hJp9gje",
        "collapsed": true,
        "colab": {
          "base_uri": "https://localhost:8080/"
        },
        "outputId": "4240417a-d10c-49d6-e6f0-3a742e9f7435"
      },
      "execution_count": null,
      "outputs": [
        {
          "output_type": "stream",
          "name": "stdout",
          "text": [
            "text@title@author\n",
            "[Illustration]\n",
            "\n",
            "One morning a little rabbit sat on a bank.\n",
            "\n",
            "He pricked his ears and listened to the trit-trot, trit-trot of a pony.\n",
            "\n",
            "A gig was coming along the road; it was driven by Mr. McGregor, and beside\n",
            "him sat Mrs. McGregor in her best bonnet.\n",
            "\n",
            "As soon as they had passed, little Benjamin Bunny slid down into the road,\n",
            "and set off--with a hop, skip, and a jump--to call upon his relations, who\n",
            "lived in the wood at the back of Mr. McGregor's garden.\n",
            "\n",
            "[Illustration]\n",
            "\n",
            "[Illustration]\n",
            "\n",
            "That wood was full of rabbit holes; and in the neatest, sandiest hole of\n",
            "all lived Benjamin's aunt and his cousins--Flopsy, Mopsy, Cotton-tail, and\n",
            "Peter.\n",
            "\n",
            "Old Mrs. Rabbit was a widow; she earned her living by knitting rabbit-wool\n",
            "mittens and muffatees (I once bought a pair at a bazaar). She also sold\n",
            "herbs, and rosemary tea, and rabbit-tobacco (which is what we call\n",
            "lavender).\n",
            "\n",
            "Little Benjamin did not very much want to see his Aunt.\n",
            "\n",
            "He came round the back of the fir-tree, and nearly tumbled upon the top of\n",
            "his Cousin Peter.\n",
            "\n",
            "[Illustration]\n",
            "\n",
            "[Illustration]\n",
            "\n",
            "Peter was sitting by himself. He looked poorly, and was dressed in a red\n",
            "cotton pocket-handkerchief.\n",
            "\n",
            "\"Peter,\" said little Benjamin, in a whisper, \"who has got your clothes?\"\n",
            "\n",
            "Peter replied, \"The scarecrow in Mr. McGregor's garden,\" and described how\n",
            "he had been chased about the garden, and had dropped his shoes and coat.\n",
            "\n",
            "Little Benjamin sat down beside his cousin and assured him that Mr.\n",
            "McGregor had gone out in a gig, and Mrs. McGregor also; and certainly for\n",
            "the day, because she was wearing her best bonnet.\n",
            "\n",
            "[Illustration]\n",
            "\n",
            "[Illustration]\n",
            "\n",
            "Peter said he hoped that it would rain.\n",
            "\n",
            "At this point old Mrs. Rabbit's voice was heard inside the rabbit hole,\n",
            "calling: \"Cotton-tail! Cotton-tail! fetch some more camomile!\"\n",
            "\n",
            "Peter said he thought he might feel better if he went for a walk.\n",
            "\n",
            "They went away hand in hand, and got upon the flat top of the wall at the\n",
            "bottom of the wood. From here they looked down into Mr. McGregor's garden.\n",
            "Peter's coat and shoes were plainly to be seen upon the scarecrow, topped\n",
            "with an old tam-o'-shanter of Mr. McGregor's.\n",
            "\n",
            "[Illustration]\n",
            "\n",
            "[Illustration]\n",
            "\n",
            "Little Benjamin said: \"It spoils people's clothes to squeeze under a gate;\n",
            "the proper way to get in is to climb down a pear-tree.\"\n",
            "\n",
            "Peter fell down head first; but it was of no consequence, as the bed below\n",
            "was newly raked and quite soft.\n",
            "\n",
            "It had been sown with lettuces.\n",
            "\n",
            "They left a great many odd little footmarks all over the bed, especially\n",
            "little Benjamin, who was wearing clogs.\n",
            "\n",
            "[Illustration]\n",
            "\n",
            "[Illustration]\n",
            "\n",
            "Little Benjamin said that the first thing to be done was to get back\n",
            "Peter's clothes, in order that they might be able to use the\n",
            "pocket-handkerchief.\n",
            "\n",
            "They took them off the scarecrow. There had been rain during the night;\n",
            "there was water in the shoes, and the coat was somewhat shrunk.\n",
            "\n",
            "Benjamin tried on the tam-o'-shanter, but it was too big for him.\n",
            "\n",
            "Then he suggested that they should fill the pocket-handkerchief with\n",
            "onions, as a little present for his Aunt.\n",
            "\n",
            "Peter did not seem to be enjoying himself; he kept hearing noises.\n",
            "\n",
            "[Illustration]\n",
            "\n",
            "[Illustration]\n",
            "\n",
            "\n",
            "Benjamin, on the contrary, was perfectly at home, and ate a lettuce leaf.\n",
            "He said that he was in the habit of coming to the garden with his father\n",
            "to get lettuces for their Sunday dinner.\n",
            "\n",
            "(The name of little Benjamin's papa was old Mr. Benjamin Bunny.)\n",
            "\n",
            "The lettuces certainly were very fine.\n",
            "\n",
            "Peter did not eat anything; he said he should like to go home. Presently\n",
            "he dropped half the onions.\n",
            "\n",
            "[Illustration]\n",
            "\n",
            "[Illustration]\n",
            "\n",
            "Little Benjamin said that it was not possible to get back up the pear-tree\n",
            "with a load of vegetables. He led the way boldly towards the other end of\n",
            "the garden. They went along a little walk on planks, under a sunny, red\n",
            "brick wall.\n",
            "\n",
            "The mice sat on their doorsteps cracking cherry-stones; they winked at\n",
            "Peter Rabbit and little Benjamin Bunny.\n",
            "\n",
            "Presently Peter let the pocket-handkerchief go again.\n",
            "\n",
            "[Illustration]\n",
            "\n",
            "[Illustration]\n",
            "\n",
            "They got amongst flower-pots, and frames, and tubs. Peter heard noises\n",
            "worse than ever; his eyes were as big as lolly-pops!\n",
            "\n",
            "He was a step or two in front of his cousin when he suddenly stopped.\n",
            "\n",
            "This is what those little rabbits saw round that corner!\n",
            "\n",
            "Little Benjamin took one look, and then, in half a minute less than no\n",
            "time, he hid himself and Peter and the onions underneath a large\n",
            "basket....\n",
            "\n",
            "[Illustration]\n",
            "\n",
            "[Illustration]\n",
            "\n",
            "The cat got up and stretched herself, and came and sniffed at the basket.\n",
            "\n",
            "Perhaps she liked the smell of onions!\n",
            "\n",
            "Anyway, she sat down upon the top of the basket.\n",
            "\n",
            "She sat there for _five hours_.\n",
            "\n",
            "       *       *       *       *       *\n",
            "\n",
            "I cannot draw you a picture of Peter and Benjamin underneath the basket,\n",
            "because it was quite dark, and because the smell of onions was fearful; it\n",
            "made Peter Rabbit and little Benjamin cry.\n",
            "\n",
            "The sun got round behind the wood, and it was quite late in the afternoon;\n",
            "but still the cat sat upon the basket.\n",
            "\n",
            "[Illustration]\n",
            "\n",
            "[Illustration]\n",
            "\n",
            "At length there was a pitter-patter, pitter-patter, and some bits of\n",
            "mortar fell from the wall above.\n",
            "\n",
            "The cat looked up and saw old Mr. Benjamin Bunny prancing along the top of\n",
            "the wall of the upper terrace.\n",
            "\n",
            "He was smoking a pipe of rabbit-tobacco, and had a little switch in his\n",
            "hand.\n",
            "\n",
            "He was looking for his son.\n",
            "\n",
            "Old Mr. Bunny had no opinion whatever of cats.\n",
            "\n",
            "He took a tremendous jump off the top of the wall on to the top of the\n",
            "cat, and cuffed it off the basket, and kicked it into the greenhouse,\n",
            "scratching off a handful of fur.\n",
            "\n",
            "The cat was too much surprised to scratch back.\n",
            "\n",
            "[Illustration]\n",
            "\n",
            "[Illustration]\n",
            "\n",
            "When old Mr. Bunny had driven the cat into the greenhouse, he locked the\n",
            "door.\n",
            "\n",
            "Then he came back to the basket and took out his son Benjamin by the ears,\n",
            "and whipped him with the little switch.\n",
            "\n",
            "Then he took out his nephew Peter.\n",
            "\n",
            "Then he took out the handkerchief of onions, and marched out of the\n",
            "garden.\n",
            "\n",
            "[Illustration]\n",
            "\n",
            "When Mr. McGregor returned about half an hour later he observed several\n",
            "things which perplexed him.\n",
            "\n",
            "It looked as though some person had been walking all over the garden in a\n",
            "pair of clogs--only the footmarks were too ridiculously little!\n",
            "\n",
            "Also he could not understand how the cat could have managed to shut\n",
            "herself up _inside_ the greenhouse, locking the door upon the _outside_.\n",
            "\n",
            "[Illustration]\n",
            "\n",
            "[Illustration]\n",
            "\n",
            "When Peter got home his mother forgave him, because she was so glad to see\n",
            "that he had found his shoes and coat. Cotton-tail and Peter folded up the\n",
            "pocket-handkerchief, and old Mrs. Rabbit strung up the onions and hung\n",
            "them from the kitchen ceiling, with the bunches of herbs and the\n",
            "rabbit-tobacco.@THE TALE OF BENJAMIN BUNNY@BEATRIX POTTER\n"
          ]
        }
      ]
    },
    {
      "cell_type": "markdown",
      "source": [
        "#4️⃣ 🐹🐾 **Read the txt file**"
      ],
      "metadata": {
        "id": "jt3svU1cp2zm"
      }
    },
    {
      "cell_type": "code",
      "source": [
        "!pip install nltk\n",
        "import nltk\n",
        "nltk.download('punkt')\n",
        "nltk.download('punkt_tab')"
      ],
      "metadata": {
        "id": "gBwuDza2-JwS",
        "collapsed": true,
        "colab": {
          "base_uri": "https://localhost:8080/"
        },
        "outputId": "09aaa5b7-5c32-4233-d6d8-749ebbd76d32"
      },
      "execution_count": null,
      "outputs": [
        {
          "output_type": "stream",
          "name": "stdout",
          "text": [
            "Requirement already satisfied: nltk in /usr/local/lib/python3.11/dist-packages (3.9.1)\n",
            "Requirement already satisfied: click in /usr/local/lib/python3.11/dist-packages (from nltk) (8.1.8)\n",
            "Requirement already satisfied: joblib in /usr/local/lib/python3.11/dist-packages (from nltk) (1.4.2)\n",
            "Requirement already satisfied: regex>=2021.8.3 in /usr/local/lib/python3.11/dist-packages (from nltk) (2024.11.6)\n",
            "Requirement already satisfied: tqdm in /usr/local/lib/python3.11/dist-packages (from nltk) (4.67.1)\n"
          ]
        },
        {
          "output_type": "stream",
          "name": "stderr",
          "text": [
            "[nltk_data] Downloading package punkt to /root/nltk_data...\n",
            "[nltk_data]   Unzipping tokenizers/punkt.zip.\n",
            "[nltk_data] Downloading package punkt_tab to /root/nltk_data...\n",
            "[nltk_data]   Unzipping tokenizers/punkt_tab.zip.\n"
          ]
        },
        {
          "output_type": "execute_result",
          "data": {
            "text/plain": [
              "True"
            ]
          },
          "metadata": {},
          "execution_count": 5
        }
      ]
    },
    {
      "cell_type": "markdown",
      "source": [
        "# 5️⃣ 🐹🐾 **Read the txt file**"
      ],
      "metadata": {
        "id": "pU7HuODPp4H9"
      }
    },
    {
      "cell_type": "code",
      "source": [
        "from nltk.tokenize import sent_tokenize\n",
        "sentence = sent_tokenize(txt)\n",
        "print('Sentence Tokenized: %s' %sentence)"
      ],
      "metadata": {
        "id": "6nya4AxT-2iR",
        "colab": {
          "base_uri": "https://localhost:8080/"
        },
        "outputId": "d236853b-3bc0-471e-e76c-3aeb7aabb45e"
      },
      "execution_count": null,
      "outputs": [
        {
          "output_type": "stream",
          "name": "stdout",
          "text": [
            "Sentence Tokenized: ['text@title@author\\n[Illustration]\\n\\nOne morning a little rabbit sat on a bank.', 'He pricked his ears and listened to the trit-trot, trit-trot of a pony.', 'A gig was coming along the road; it was driven by Mr. McGregor, and beside\\nhim sat Mrs. McGregor in her best bonnet.', \"As soon as they had passed, little Benjamin Bunny slid down into the road,\\nand set off--with a hop, skip, and a jump--to call upon his relations, who\\nlived in the wood at the back of Mr. McGregor's garden.\", \"[Illustration]\\n\\n[Illustration]\\n\\nThat wood was full of rabbit holes; and in the neatest, sandiest hole of\\nall lived Benjamin's aunt and his cousins--Flopsy, Mopsy, Cotton-tail, and\\nPeter.\", 'Old Mrs. Rabbit was a widow; she earned her living by knitting rabbit-wool\\nmittens and muffatees (I once bought a pair at a bazaar).', 'She also sold\\nherbs, and rosemary tea, and rabbit-tobacco (which is what we call\\nlavender).', 'Little Benjamin did not very much want to see his Aunt.', 'He came round the back of the fir-tree, and nearly tumbled upon the top of\\nhis Cousin Peter.', '[Illustration]\\n\\n[Illustration]\\n\\nPeter was sitting by himself.', 'He looked poorly, and was dressed in a red\\ncotton pocket-handkerchief.', '\"Peter,\" said little Benjamin, in a whisper, \"who has got your clothes?\"', 'Peter replied, \"The scarecrow in Mr. McGregor\\'s garden,\" and described how\\nhe had been chased about the garden, and had dropped his shoes and coat.', 'Little Benjamin sat down beside his cousin and assured him that Mr.\\nMcGregor had gone out in a gig, and Mrs. McGregor also; and certainly for\\nthe day, because she was wearing her best bonnet.', '[Illustration]\\n\\n[Illustration]\\n\\nPeter said he hoped that it would rain.', 'At this point old Mrs. Rabbit\\'s voice was heard inside the rabbit hole,\\ncalling: \"Cotton-tail!', 'Cotton-tail!', 'fetch some more camomile!\"', 'Peter said he thought he might feel better if he went for a walk.', 'They went away hand in hand, and got upon the flat top of the wall at the\\nbottom of the wood.', \"From here they looked down into Mr. McGregor's garden.\", \"Peter's coat and shoes were plainly to be seen upon the scarecrow, topped\\nwith an old tam-o'-shanter of Mr. McGregor's.\", '[Illustration]\\n\\n[Illustration]\\n\\nLittle Benjamin said: \"It spoils people\\'s clothes to squeeze under a gate;\\nthe proper way to get in is to climb down a pear-tree.\"', 'Peter fell down head first; but it was of no consequence, as the bed below\\nwas newly raked and quite soft.', 'It had been sown with lettuces.', 'They left a great many odd little footmarks all over the bed, especially\\nlittle Benjamin, who was wearing clogs.', \"[Illustration]\\n\\n[Illustration]\\n\\nLittle Benjamin said that the first thing to be done was to get back\\nPeter's clothes, in order that they might be able to use the\\npocket-handkerchief.\", 'They took them off the scarecrow.', 'There had been rain during the night;\\nthere was water in the shoes, and the coat was somewhat shrunk.', \"Benjamin tried on the tam-o'-shanter, but it was too big for him.\", 'Then he suggested that they should fill the pocket-handkerchief with\\nonions, as a little present for his Aunt.', 'Peter did not seem to be enjoying himself; he kept hearing noises.', '[Illustration]\\n\\n[Illustration]\\n\\n\\nBenjamin, on the contrary, was perfectly at home, and ate a lettuce leaf.', 'He said that he was in the habit of coming to the garden with his father\\nto get lettuces for their Sunday dinner.', \"(The name of little Benjamin's papa was old Mr. Benjamin Bunny.)\", 'The lettuces certainly were very fine.', 'Peter did not eat anything; he said he should like to go home.', 'Presently\\nhe dropped half the onions.', '[Illustration]\\n\\n[Illustration]\\n\\nLittle Benjamin said that it was not possible to get back up the pear-tree\\nwith a load of vegetables.', 'He led the way boldly towards the other end of\\nthe garden.', 'They went along a little walk on planks, under a sunny, red\\nbrick wall.', 'The mice sat on their doorsteps cracking cherry-stones; they winked at\\nPeter Rabbit and little Benjamin Bunny.', 'Presently Peter let the pocket-handkerchief go again.', '[Illustration]\\n\\n[Illustration]\\n\\nThey got amongst flower-pots, and frames, and tubs.', 'Peter heard noises\\nworse than ever; his eyes were as big as lolly-pops!', 'He was a step or two in front of his cousin when he suddenly stopped.', 'This is what those little rabbits saw round that corner!', 'Little Benjamin took one look, and then, in half a minute less than no\\ntime, he hid himself and Peter and the onions underneath a large\\nbasket....\\n\\n[Illustration]\\n\\n[Illustration]\\n\\nThe cat got up and stretched herself, and came and sniffed at the basket.', 'Perhaps she liked the smell of onions!', 'Anyway, she sat down upon the top of the basket.', 'She sat there for _five hours_.', '*       *       *       *       *\\n\\nI cannot draw you a picture of Peter and Benjamin underneath the basket,\\nbecause it was quite dark, and because the smell of onions was fearful; it\\nmade Peter Rabbit and little Benjamin cry.', 'The sun got round behind the wood, and it was quite late in the afternoon;\\nbut still the cat sat upon the basket.', '[Illustration]\\n\\n[Illustration]\\n\\nAt length there was a pitter-patter, pitter-patter, and some bits of\\nmortar fell from the wall above.', 'The cat looked up and saw old Mr. Benjamin Bunny prancing along the top of\\nthe wall of the upper terrace.', 'He was smoking a pipe of rabbit-tobacco, and had a little switch in his\\nhand.', 'He was looking for his son.', 'Old Mr. Bunny had no opinion whatever of cats.', 'He took a tremendous jump off the top of the wall on to the top of the\\ncat, and cuffed it off the basket, and kicked it into the greenhouse,\\nscratching off a handful of fur.', 'The cat was too much surprised to scratch back.', '[Illustration]\\n\\n[Illustration]\\n\\nWhen old Mr. Bunny had driven the cat into the greenhouse, he locked the\\ndoor.', 'Then he came back to the basket and took out his son Benjamin by the ears,\\nand whipped him with the little switch.', 'Then he took out his nephew Peter.', 'Then he took out the handkerchief of onions, and marched out of the\\ngarden.', '[Illustration]\\n\\nWhen Mr. McGregor returned about half an hour later he observed several\\nthings which perplexed him.', 'It looked as though some person had been walking all over the garden in a\\npair of clogs--only the footmarks were too ridiculously little!', 'Also he could not understand how the cat could have managed to shut\\nherself up _inside_ the greenhouse, locking the door upon the _outside_.', '[Illustration]\\n\\n[Illustration]\\n\\nWhen Peter got home his mother forgave him, because she was so glad to see\\nthat he had found his shoes and coat.', 'Cotton-tail and Peter folded up the\\npocket-handkerchief, and old Mrs. Rabbit strung up the onions and hung\\nthem from the kitchen ceiling, with the bunches of herbs and the\\nrabbit-tobacco.', '@THE TALE OF BENJAMIN BUNNY@BEATRIX POTTER']\n"
          ]
        }
      ]
    },
    {
      "cell_type": "markdown",
      "source": [
        "# 6️⃣ 📍📍 **Run the following code cell for applying replace function**"
      ],
      "metadata": {
        "id": "s9pIkCMfI-oc"
      }
    },
    {
      "cell_type": "code",
      "source": [
        "# Open the input file in read-text mode\n",
        "\n",
        "# ▶️2️⃣ You need to modify this codeline 🍩🎂🍎🍏🍦\n",
        "fl = open(\"/content/NLP_PictureBook_2025/Data_PG_PT/1_BenjaminBunny_Body_BeatrixPotter.txt\", 'rt')\n",
        "\n",
        "# Read the content, convert to lowercase, and clean unwanted characters\n",
        "fl_content = fl.read().replace(\"\\n\", \" \").replace(\"\\“\", \"\").replace(\"\\\"\", \"\").replace(\"\\”\", \"\").replace(\"_\", \"\").replace(\"[illustration]\", \"\").replace(\"[Illustration]\", \"\".replace(\"*\",\"\"))\n",
        "# Close the input file\n",
        "fl.close()\n",
        "\n",
        "# ▶️3️⃣ Write the processed content to a new text file\n",
        "# You need to modify this codeline 🍩🎂🍎🍏🍦\n",
        "with open(\"/content/NLP_PictureBook_2025/Data_PG_PT/1_BenjaminBunny_Body_BeatrixPotter.txt\", 'w') as cf:  # Ensure .txt extension is added;\n",
        "  cf.write(fl_content)\n",
        "\n",
        "# Print the processed content to verify\n",
        "print(fl_content)  # Write the cleaned content to the output file"
      ],
      "metadata": {
        "colab": {
          "base_uri": "https://localhost:8080/"
        },
        "id": "kMZTfDGjET13",
        "outputId": "6d4a8d2c-2b09-4836-de4e-315b16911f48"
      },
      "execution_count": null,
      "outputs": [
        {
          "output_type": "stream",
          "name": "stdout",
          "text": [
            "  With Illustrations by S. Beatrice Pearse        [Illustration: The Queen came in most splendidly dressed p. 27]   THE MAGIC FISHBONE  A Holiday Romance from the Pen of Miss Alice Rainbird Aged 7.  by  CHARLES DICKENS    London: Constable and Co. Ltd.     FOREWORD   The story contained herein was written by Charles Dickens in 1867. It is the second of four stories entitled Holiday Romance and was published originally in a children's magazine in America. It purports to be written by a child aged seven. It was republished in England in All the Year Round in 1868. For this and four other Christmas pieces Dickens received £1,000.  Holiday Romance was published in book form by Messrs Chapman & Hall in 1874, with Edwin Drood and other stories.  For this reprint the text of the story as it appeared in All the Year Round has been followed.                   *       *       *       *       *   [Illustration: SEVERAL OF THE CHILDREN WERE GROWING OUT OF THEIR CLOTHES]  There was once a King, and he had a Queen; and he was the manliest of his sex, and she was the loveliest of hers. The King was, in his private profession, Under Government. The Queen's father had been a medical man out of town.  They had nineteen children, and were always having more. Seventeen of these children took care of the baby; and Alicia, the eldest, took care of them all. Their ages varied from seven years to seven months.  Let us now resume our story.  One day the King was going to the office, when he stopped at the fishmonger's to buy a pound and a half of salmon not too near the tail, which the Queen (who was a careful housekeeper) had requested him to send home. Mr Pickles, the fishmonger, said, Certainly, sir, is there any other article, Good-morning.  The King went on towards the office in a melancholy mood, for quarter day was such a long way off, and several of the dear children were growing out of their clothes. He had not proceeded far, when Mr Pickles's errand-boy came running after him, and said, Sir, you didn't notice the old lady in our shop.  What old lady? enquired the King. I saw none.  Now, the King had not seen any old lady, because this old lady had been invisible to him, though visible to Mr Pickles's boy. Probably because he messed and splashed the water about to that degree, and flopped the pairs of soles down in that violent manner, that, if she had not been visible to him, he would have spoilt her clothes.  Just then the old lady came trotting up. She was dressed in shot-silk of the richest quality, smelling of dried lavender.  King Watkins the First, I believe? said the old lady.  Watkins, replied the King, is my name.  Papa, if I am not mistaken, of the beautiful Princess Alicia? said the old lady.  And of eighteen other darlings, replied the King.  Listen. You are going to the office, said the old lady.  It instantly flashed upon the King that she must be a Fairy, or how could she know that?  You are right, said the old lady, answering his thoughts, I am the Good Fairy Grandmarina. Attend. When you return home to dinner, politely invite the Princess Alicia to have some of the salmon you bought just now.  It may disagree with her, said the King.  The old lady became so very angry at this absurd idea, that the King was quite alarmed, and humbly begged her pardon.  We hear a great deal too much about this thing disagreeing, and that thing disagreeing, said the old lady, with the greatest contempt it was possible to express. Don't be greedy. I think you want it all yourself.  The King hung his head under this reproof, and said he wouldn't talk about things disagreeing, any more.  Be good, then, said the Fairy Grandmarina, and don't! When the beautiful Princess Alicia consents to partake of the salmon--as I think she will--you will find she will leave a fish-bone on her plate. Tell her to dry it, and to rub it, and to polish it till it shines like mother-of-pearl, and to take care of it as a present from me.  Is that all? asked the King.  Don't be impatient, sir, returned the Fairy Grandmarina, scolding him severely. Don't catch people short, before they have done speaking. Just the way with you grown-up persons. You are always doing it.  The King again hung his head, and said he wouldn't do so any more.  Be good then, said the Fairy Grandmarina, and don't! Tell the Princess Alicia, with my love, that the fish-bone is a magic present which can only be used once; but that it will bring her, that once, whatever she wishes for, PROVIDED SHE WISHES FOR IT AT THE RIGHT TIME. That is the message. Take care of it.  [Illustration: HOITY TOITY ME!]  The King was beginning, Might I ask the reason--? when the Fairy became absolutely furious.  Will you be good, sir? she exclaimed, stamping her foot on the ground. The reason for this, and the reason for that, indeed! You are always wanting the reason. No reason. There! Hoity toity me! I am sick of your grown-up reasons.  The King was extremely frightened by the old lady's flying into such a passion, and said he was very sorry to have offended her, and he wouldn't ask for reasons any more.  Be good then, said the old lady, and don't!  With those words, Grandmarina vanished, and the King went on and on and on, till he came to the office. There he wrote and wrote and wrote, till it was time to go home again. Then he politely invited the Princess Alicia, as the Fairy had directed him, to partake of the salmon. And when she had enjoyed it very much, he saw the fish-bone on her plate, as the Fairy had told him he would, and he delivered the Fairy's message, and the Princess Alicia took care to dry the bone, and to rub it, and to polish it till it shone like mother-of-pearl.  [Illustration: He saw the Fish-bone on her Plate]  And so when the Queen was going to get up in the morning, she said, O, dear me, dear me; my head, my head! and then she fainted away.  The Princess Alicia, who happened to be looking in at the chamber-door, asking about breakfast, was very much alarmed when she saw her Royal Mamma in this state, and she rang the bell for Peggy, which was the name of the Lord Chamberlain. But remembering where the smelling-bottle was, she climbed on a chair and got it, and after that she climbed on another chair by the bedside and held the smelling-bottle to the Queen's nose, and after that she jumped down and got some water, and after that she jumped up again and wetted the Queen's forehead, and, in short, when the Lord Chamberlain came in, that dear old woman said to the little Princess, What a Trot you are! I couldn't have done it better myself!    But that was not the worst of the good Queen's illness. O, no! She was very ill indeed, for a long time. The Princess Alicia kept the seventeen young Princes and Princesses quiet, and dressed and undressed and danced the baby, and made the kettle boil, and heated the soup, and swept the hearth, and poured out the medicine, and nursed the Queen, and did all that ever she could, and was as busy busy busy, as busy could be. For there were not many servants at that Palace, for three reasons; because the King was short of money, because a rise in his office never seemed to come, and because quarter day was so far off that it looked almost as far off and as little as one of the stars.  But on the morning when the Queen fainted away, where was the magic fish-bone? Why, there it was in the Princess Alicia's pocket. She had almost taken it out to bring the Queen to life again, when she put it back, and looked for the smelling-bottle.  After the Queen had come out of her swoon that morning, and was dozing, the Princess Alicia hurried up-stairs to tell a most particular secret to a most particularly confidential friend of hers, who was a Duchess. People did suppose her to be a Doll; but she was really a Duchess, though nobody knew it except the Princess.    This most particular secret was a secret about the magic fish-bone, the history of which was well known to the Duchess, because the Princess told her everything. The Princess kneeled down by the bed on which the Duchess was lying, full-dressed and wide awake, and whispered the secret to her. The Duchess smiled and nodded. People might have supposed that she never smiled and nodded, but she often did, though nobody knew it except the Princess.  Then the Princess Alicia hurried downstairs again, to keep watch in the Queen's room. She often kept watch by herself in the Queen's room; but every evening, while the illness lasted, she sat there watching with the King. And every evening the King sat looking at her with a cross look, wondering why she never brought out the magic fish-bone. As often as she noticed this, she ran up-stairs, whispered the secret to the Duchess over again, and said to the Duchess besides, They think we children never have a reason or a meaning! And the Duchess, though the most fashionable Duchess that ever was heard of, winked her eye.  Alicia, said the King, one evening when she wished him Good Night.  Yes, Papa.  What is become of the magic fish-bone?  In my pocket, Papa.  I thought you had lost it?  O, no, Papa.  Or forgotten it?  No, indeed, Papa.  And so another time the dreadful little snapping pug-dog next door made a rush at one of the young Princes as he stood on the steps coming home from school, and terrified him out of his wits and he put his hand through a pane of glass, and bled bled bled. When the seventeen other young Princes and Princesses saw him bleed bleed bleed, they were terrified out of their wits too, and screamed themselves black in their seventeen faces all at once. But the Princess Alicia put her hands over all their seventeen mouths, one after another, and persuaded them to be quiet because of the sick Queen. And then she put the wounded Prince's hand in a basin of fresh cold water, while they stared with their twice seventeen are thirty-four put down four and carry three eyes, and then she looked in the hand for bits of glass, and there were fortunately no bits of glass there. And then she said to two chubby-legged Princes who were sturdy though small, Bring me in the Royal rag-bag; I must snip and stitch and cut and contrive. So those two young Princes tugged at the Royal rag-bag and lugged it in, and the Princess Alicia sat down on the floor with a large pair of scissors and a needle and thread, and snipped and stitched and cut and contrived, and made a bandage and put it on, and it fitted beautifully, and so when it was all done she saw the King her Papa looking on by the door.    Alicia.  Yes, Papa.  What have you been doing?  Snipping stitching cutting and contriving, Papa.  Where is the magic fish-bone?  In my pocket, Papa.  I thought you had lost it?  O, no, Papa.  Or forgotten it?  No, indeed, Papa.  After that, she ran up-stairs to the Duchess and told her what had passed, and told her the secret over again, and the Duchess shook her flaxen curls and laughed with her rosy lips.    Well! and so another time the baby fell under the grate. The seventeen young Princes and Princesses were used to it, for they were almost always falling under the grate or down the stairs, but the baby was not used to it yet, and it gave him a swelled face and a black eye. The way the poor little darling came to tumble was, that he slid out of the Princess Alicia's lap just as she was sitting in a great coarse apron that quite smothered her, in front of the kitchen-fire, beginning to peel the turnips for the broth for dinner; and the way she came to be doing that was, that the King's cook had run away that morning with her own true love who was a very tall but very tipsy soldier. Then, the seventeen young Princes and Princesses, who cried at everything that happened, cried and roared. But the Princess Alicia (who couldn't help crying a little herself) quietly called to them to be still, on account of not throwing back the Queen up-stairs, who was fast getting well, and said, Hold your tongues, you wicked little monkeys, every one of you, while I examine baby! Then she examined baby, and found that he hadn't broken anything, and she held cold iron to his poor dear eye, and smoothed his poor dear face, and he presently fell asleep in her arms. Then, she said to the seventeen Princes and Princesses, I am afraid to lay him down yet, lest he should wake and feel pain, be good, and you shall all be cooks. They jumped for joy when they heard that, and began making themselves cooks' caps out of old newspapers. So to one she gave the salt-box, and to one she gave the barley, and to one she gave the herbs, and to one she gave the turnips, and to one she gave the carrots, and to one she gave the onions, and to one she gave the spice-box, till they were all cooks, and all running about at work, she sitting in the middle smothered in the great coarse apron, nursing baby. By and by the broth was done, and the baby woke up smiling like an angel, and was trusted to the sedatest Princess to hold, while the other Princes and Princesses were squeezed into a far-off corner to look at the Princess Alicia turning out the saucepan-full of broth, for fear (as they were always getting into trouble) they should get splashed and scalded. When the broth came tumbling out, steaming beautifully, and smelling like a nosegay good to eat, they clapped their hands. That made the baby clap his hands; and that, and his looking as if he had a comic toothache, made all the Princes and Princesses laugh. So the Princess Alicia said, Laugh and be good, and after dinner we will make him a nest on the floor in a corner, and he shall sit in his nest and see a dance of eighteen cooks. That delighted the young Princes and Princesses, and they ate up all the broth, and washed up all the plates and dishes, and cleared away, and pushed the table into a corner, and then they in their cooks' caps, and the Princess Alicia in the smothering coarse apron that belonged to the cook that had run away with her own true love that was the very tall but very tipsy soldier, danced a dance of eighteen cooks before the angelic baby, who forgot his swelled face and his black eye, and crowed with joy.  [Illustration: The Dance of the Eighteen Cooks]  And so then, once more the Princess Alicia saw King Watkins the First, her father, standing in the doorway looking on, and he said: What have you been doing, Alicia?  Cooking and contriving, Papa.  What else have you been doing, Alicia?  Keeping the children light-hearted, Papa.  Where is the magic fish-bone, Alicia?  In my pocket, Papa.  I thought you had lost it?  O, no, Papa.  Or forgotten it?  No, indeed, Papa.  The King then sighed so heavily, and seemed so low-spirited, and sat down so miserably, leaning his head upon his hand, and his elbow upon the kitchen table pushed away in the corner, that the seventeen Princes and Princesses crept softly out of the kitchen, and left him alone with the Princess Alicia and the angelic baby.  What is the matter, Papa?  I am dreadfully poor, my child.  Have you no money at all, Papa?  [Illustration: What is the matter, Papa?]  None my child.  Is there no way left of getting any, Papa?  No way, said the King. I have tried very hard, and I have tried all ways.  When she heard those last words, the Princess Alicia began to put her hand into the pocket where she kept the magic fish-bone.  Papa, said she, when we have tried very hard, and tried all ways, we must have done our very very best?  No doubt, Alicia.  When we have done our very very best, Papa, and that is not enough, then I think the right time must have come for asking help of others. This was the very secret connected with the magic fish-bone, which she had found out for herself from the good fairy Grandmarina's words, and which she had so often whispered to her beautiful and fashionable friend the Duchess.  So she took out of her pocket the magic fish-bone that had been dried and rubbed and polished till it shone like mother-of-pearl; and she gave it one little kiss and wished it was quarter day. And immediately it was quarter day; and the King's quarter's salary came rattling down the chimney, and bounced into the middle of the floor.  But this was not half of what happened, no not a quarter, for immediately afterwards the good fairy Grandmarina came riding in, in a carriage and four (Peacocks), with Mr Pickles's boy up behind, dressed in silver and gold, with a cocked hat, powdered hair, pink silk stockings, a jewelled cane, and a nosegay. Down jumped Mr Pickles's boy with his cocked hat in his hand and wonderfully polite (being entirely changed by enchantment), and handed Grandmarina out, and there she stood in her rich shot silk smelling of dried lavender, fanning herself with a sparkling fan.  Alicia, my dear, said this charming old Fairy, how do you do, I hope I see you pretty well, give me a kiss.  The Princess Alicia embraced her, and then Grandmarina turned to the King, and said rather sharply:--Are you good?  [Illustration: Alicia, my dear ... how do you do?]  The King said he hoped so.  I suppose you know the reason, now, why my god-Daughter here, kissing the Princess again, did not apply to the fish-bone sooner? said the Fairy.  The King made her a shy bow.  Ah! but you didn't then! said the Fairy.  The King made her a shyer bow.  Any more reasons to ask for? said the Fairy.  The King said no, and he was very sorry.  Be good then, said the Fairy, and live happy ever afterwards.  Then, Grandmarina waved her fan, and the Queen came in most splendidly dressed, and the seventeen young Princes and Princesses, no longer grown out of their clothes, came in newly fitted out from top to toe, with tucks in everything to admit of its being let out. After that, the Fairy tapped the Princess Alicia with her fan, and the smothering coarse apron flew away, and she appeared exquisitely dressed, like a little Bride, with a wreath of orange-flowers and a silver veil. After that, the kitchen dresser changed of itself into a wardrobe, made of beautiful woods and gold and looking glass, which was full of dresses of all sorts, all for her and all exactly fitting her. After that, the angelic baby came in, running alone, with his face and eye not a bit the worse but much the better. Then, Grandmarina begged to be introduced to the Duchess, and, when the Duchess was brought down many compliments passed between them.  A little whispering took place between the Fairy and the Duchess, and then the Fairy said out loud, Yes. I thought she would have told you. Grandmarina then turned to the King and Queen, and said, We are going in search of Prince Certainpersonio. The pleasure of your company is requested at church in half an hour precisely. So she and the Princess Alicia got into the carriage, and Mr Pickles's boy handed in the Duchess who sat by herself on the opposite seat, and then Mr Pickles's boy put up the steps and got up behind, and the Peacocks flew away with their tails spread.  [Illustration: She appeared exquisitely dressed, like a little Bride]  Prince Certainpersonio was sitting by himself, eating barley-sugar and waiting to be ninety. When he saw the Peacocks followed by the carriage, coming in at the window, it immediately occurred to him that something uncommon was going to happen.  Prince, said Grandmarina, I bring you your Bride.  The moment the Fairy said those words, Prince Certainpersonio's face left off being stickey, and his jacket and corduroys changed to peach-bloom velvet, and his hair curled, and a cap and feather flew in like a bird and settled on his head. He got into the carriage by the Fairy's invitation, and there he renewed his acquaintance with the Duchess, whom he had seen before.  In the church were the Prince's relations and friends, and the Princess Alicia's relations and friends, and the seventeen Princes and Princesses, and the baby, and a crowd of the neighbours. The marriage was beautiful beyond expression. The Duchess was bridesmaid, and beheld the ceremony from the pulpit where she was supported by the cushion of the desk.  Grandmarina gave a magnificent wedding feast afterwards, in which there was everything and more to eat, and everything and more to drink. The wedding cake was delicately ornamented with white satin ribbons, frosted silver and white lilies, and was forty-two yards round.  When Grandmarina had drunk her love to the young couple, and Prince Certainpersonio had made a speech, and everybody had cried Hip hip hip hurrah! Grandmarina announced to the King and Queen that in future there would be eight quarter days in every year, except in leap year, when there would be ten. She then turned to Certainpersonio and Alicia, and said, My dears, you will have thirty-five children, and they will all be good and beautiful. Seventeen of your children will be boys, and eighteen will be girls. The hair of the whole of your children will curl naturally. They will never have the measles, and will have recovered from the whooping-cough before being born.  On hearing such good news, everybody cried out Hip hip hip hurrah! again.  It only remains, said Grandmarina in conclusion, to make an end of the fish-bone.  So she took it from the hand of the Princess Alicia, and it instantly flew down the throat of the dreadful little snapping pug-dog next door and choked him, and he expired in convulsions.@THE MAGIC FISHBONE@CHARLES DICKENS \n"
          ]
        }
      ]
    },
    {
      "cell_type": "markdown",
      "source": [],
      "metadata": {
        "id": "HM6n-gwIqLgn"
      }
    },
    {
      "cell_type": "markdown",
      "source": [
        "# 7️⃣ 🐹🐾 **Read the txt file**"
      ],
      "metadata": {
        "id": "SACJ4rQ5qPo-"
      }
    },
    {
      "cell_type": "code",
      "source": [
        "# 💡💊 Tokenization with RegexpTokeizer\n",
        "\n",
        "# ▶️4️⃣ You need to modify this codeline 🍩🎂🍎🍏🍦\n",
        "nf = open(\"/content/NLP_PictureBook_2025/Data_PG_PT/1_BenjaminBunny_Body_BeatrixPotter.txt\", 'rt') #reading the new file as nf using the 'rt'\n",
        "obj = nf.read().lower()\n",
        "\n",
        "# Regular expression to match a quotation mark followed by a space\n",
        "import re\n",
        "f_text = re.sub(r'^\\s+', '\"', obj) #fixed text as f_text\n",
        "print(f_text)\n",
        "\n",
        "# ▶️5️⃣ You need to modify this codeline 🍩🎂🍎🍏🍦\n",
        "with open('/content/BenjaminBunny_lower_nosymbol.txt', 'w') as cf:\n",
        "  cf.write(obj)\n",
        "\n",
        "from nltk.tokenize import sent_tokenize\n",
        "sentence = sent_tokenize(obj)\n",
        "print('Sentence Tokenized: %s' %sentence)\n",
        "\n",
        "from nltk.tokenize import RegexpTokenizer #RegexpTokenizer as a class\n",
        "import re\n",
        "\n",
        "tok = RegexpTokenizer(\"[\\w]+\") # Alert: You cannot use RegexpTokenizer() without argument. You need a regexpression formula.\n",
        "\n",
        "tk = tok.tokenize(obj)\n",
        "print('Tokenizing Words with RegexpTokenizer: %s' %tk)\n",
        "\n",
        "print(' '.join(tk)) #small characters\n",
        "#alternatively, use the codeline of ' '.join(tkn)\n",
        "\n"
      ],
      "metadata": {
        "id": "L8NQ_l5kk6zE",
        "collapsed": true,
        "colab": {
          "base_uri": "https://localhost:8080/"
        },
        "outputId": "23f7b1fa-4bcb-48f0-ef39-5aa2b6c65186"
      },
      "execution_count": null,
      "outputs": [
        {
          "output_type": "stream",
          "name": "stdout",
          "text": [
            "text@title@author\n",
            "[illustration]\n",
            "\n",
            "one morning a little rabbit sat on a bank.\n",
            "\n",
            "he pricked his ears and listened to the trit-trot, trit-trot of a pony.\n",
            "\n",
            "a gig was coming along the road; it was driven by mr. mcgregor, and beside\n",
            "him sat mrs. mcgregor in her best bonnet.\n",
            "\n",
            "as soon as they had passed, little benjamin bunny slid down into the road,\n",
            "and set off--with a hop, skip, and a jump--to call upon his relations, who\n",
            "lived in the wood at the back of mr. mcgregor's garden.\n",
            "\n",
            "[illustration]\n",
            "\n",
            "[illustration]\n",
            "\n",
            "that wood was full of rabbit holes; and in the neatest, sandiest hole of\n",
            "all lived benjamin's aunt and his cousins--flopsy, mopsy, cotton-tail, and\n",
            "peter.\n",
            "\n",
            "old mrs. rabbit was a widow; she earned her living by knitting rabbit-wool\n",
            "mittens and muffatees (i once bought a pair at a bazaar). she also sold\n",
            "herbs, and rosemary tea, and rabbit-tobacco (which is what we call\n",
            "lavender).\n",
            "\n",
            "little benjamin did not very much want to see his aunt.\n",
            "\n",
            "he came round the back of the fir-tree, and nearly tumbled upon the top of\n",
            "his cousin peter.\n",
            "\n",
            "[illustration]\n",
            "\n",
            "[illustration]\n",
            "\n",
            "peter was sitting by himself. he looked poorly, and was dressed in a red\n",
            "cotton pocket-handkerchief.\n",
            "\n",
            "\"peter,\" said little benjamin, in a whisper, \"who has got your clothes?\"\n",
            "\n",
            "peter replied, \"the scarecrow in mr. mcgregor's garden,\" and described how\n",
            "he had been chased about the garden, and had dropped his shoes and coat.\n",
            "\n",
            "little benjamin sat down beside his cousin and assured him that mr.\n",
            "mcgregor had gone out in a gig, and mrs. mcgregor also; and certainly for\n",
            "the day, because she was wearing her best bonnet.\n",
            "\n",
            "[illustration]\n",
            "\n",
            "[illustration]\n",
            "\n",
            "peter said he hoped that it would rain.\n",
            "\n",
            "at this point old mrs. rabbit's voice was heard inside the rabbit hole,\n",
            "calling: \"cotton-tail! cotton-tail! fetch some more camomile!\"\n",
            "\n",
            "peter said he thought he might feel better if he went for a walk.\n",
            "\n",
            "they went away hand in hand, and got upon the flat top of the wall at the\n",
            "bottom of the wood. from here they looked down into mr. mcgregor's garden.\n",
            "peter's coat and shoes were plainly to be seen upon the scarecrow, topped\n",
            "with an old tam-o'-shanter of mr. mcgregor's.\n",
            "\n",
            "[illustration]\n",
            "\n",
            "[illustration]\n",
            "\n",
            "little benjamin said: \"it spoils people's clothes to squeeze under a gate;\n",
            "the proper way to get in is to climb down a pear-tree.\"\n",
            "\n",
            "peter fell down head first; but it was of no consequence, as the bed below\n",
            "was newly raked and quite soft.\n",
            "\n",
            "it had been sown with lettuces.\n",
            "\n",
            "they left a great many odd little footmarks all over the bed, especially\n",
            "little benjamin, who was wearing clogs.\n",
            "\n",
            "[illustration]\n",
            "\n",
            "[illustration]\n",
            "\n",
            "little benjamin said that the first thing to be done was to get back\n",
            "peter's clothes, in order that they might be able to use the\n",
            "pocket-handkerchief.\n",
            "\n",
            "they took them off the scarecrow. there had been rain during the night;\n",
            "there was water in the shoes, and the coat was somewhat shrunk.\n",
            "\n",
            "benjamin tried on the tam-o'-shanter, but it was too big for him.\n",
            "\n",
            "then he suggested that they should fill the pocket-handkerchief with\n",
            "onions, as a little present for his aunt.\n",
            "\n",
            "peter did not seem to be enjoying himself; he kept hearing noises.\n",
            "\n",
            "[illustration]\n",
            "\n",
            "[illustration]\n",
            "\n",
            "\n",
            "benjamin, on the contrary, was perfectly at home, and ate a lettuce leaf.\n",
            "he said that he was in the habit of coming to the garden with his father\n",
            "to get lettuces for their sunday dinner.\n",
            "\n",
            "(the name of little benjamin's papa was old mr. benjamin bunny.)\n",
            "\n",
            "the lettuces certainly were very fine.\n",
            "\n",
            "peter did not eat anything; he said he should like to go home. presently\n",
            "he dropped half the onions.\n",
            "\n",
            "[illustration]\n",
            "\n",
            "[illustration]\n",
            "\n",
            "little benjamin said that it was not possible to get back up the pear-tree\n",
            "with a load of vegetables. he led the way boldly towards the other end of\n",
            "the garden. they went along a little walk on planks, under a sunny, red\n",
            "brick wall.\n",
            "\n",
            "the mice sat on their doorsteps cracking cherry-stones; they winked at\n",
            "peter rabbit and little benjamin bunny.\n",
            "\n",
            "presently peter let the pocket-handkerchief go again.\n",
            "\n",
            "[illustration]\n",
            "\n",
            "[illustration]\n",
            "\n",
            "they got amongst flower-pots, and frames, and tubs. peter heard noises\n",
            "worse than ever; his eyes were as big as lolly-pops!\n",
            "\n",
            "he was a step or two in front of his cousin when he suddenly stopped.\n",
            "\n",
            "this is what those little rabbits saw round that corner!\n",
            "\n",
            "little benjamin took one look, and then, in half a minute less than no\n",
            "time, he hid himself and peter and the onions underneath a large\n",
            "basket....\n",
            "\n",
            "[illustration]\n",
            "\n",
            "[illustration]\n",
            "\n",
            "the cat got up and stretched herself, and came and sniffed at the basket.\n",
            "\n",
            "perhaps she liked the smell of onions!\n",
            "\n",
            "anyway, she sat down upon the top of the basket.\n",
            "\n",
            "she sat there for _five hours_.\n",
            "\n",
            "       *       *       *       *       *\n",
            "\n",
            "i cannot draw you a picture of peter and benjamin underneath the basket,\n",
            "because it was quite dark, and because the smell of onions was fearful; it\n",
            "made peter rabbit and little benjamin cry.\n",
            "\n",
            "the sun got round behind the wood, and it was quite late in the afternoon;\n",
            "but still the cat sat upon the basket.\n",
            "\n",
            "[illustration]\n",
            "\n",
            "[illustration]\n",
            "\n",
            "at length there was a pitter-patter, pitter-patter, and some bits of\n",
            "mortar fell from the wall above.\n",
            "\n",
            "the cat looked up and saw old mr. benjamin bunny prancing along the top of\n",
            "the wall of the upper terrace.\n",
            "\n",
            "he was smoking a pipe of rabbit-tobacco, and had a little switch in his\n",
            "hand.\n",
            "\n",
            "he was looking for his son.\n",
            "\n",
            "old mr. bunny had no opinion whatever of cats.\n",
            "\n",
            "he took a tremendous jump off the top of the wall on to the top of the\n",
            "cat, and cuffed it off the basket, and kicked it into the greenhouse,\n",
            "scratching off a handful of fur.\n",
            "\n",
            "the cat was too much surprised to scratch back.\n",
            "\n",
            "[illustration]\n",
            "\n",
            "[illustration]\n",
            "\n",
            "when old mr. bunny had driven the cat into the greenhouse, he locked the\n",
            "door.\n",
            "\n",
            "then he came back to the basket and took out his son benjamin by the ears,\n",
            "and whipped him with the little switch.\n",
            "\n",
            "then he took out his nephew peter.\n",
            "\n",
            "then he took out the handkerchief of onions, and marched out of the\n",
            "garden.\n",
            "\n",
            "[illustration]\n",
            "\n",
            "when mr. mcgregor returned about half an hour later he observed several\n",
            "things which perplexed him.\n",
            "\n",
            "it looked as though some person had been walking all over the garden in a\n",
            "pair of clogs--only the footmarks were too ridiculously little!\n",
            "\n",
            "also he could not understand how the cat could have managed to shut\n",
            "herself up _inside_ the greenhouse, locking the door upon the _outside_.\n",
            "\n",
            "[illustration]\n",
            "\n",
            "[illustration]\n",
            "\n",
            "when peter got home his mother forgave him, because she was so glad to see\n",
            "that he had found his shoes and coat. cotton-tail and peter folded up the\n",
            "pocket-handkerchief, and old mrs. rabbit strung up the onions and hung\n",
            "them from the kitchen ceiling, with the bunches of herbs and the\n",
            "rabbit-tobacco.@the tale of benjamin bunny@beatrix potter\n",
            "Sentence Tokenized: ['text@title@author\\n[illustration]\\n\\none morning a little rabbit sat on a bank.', 'he pricked his ears and listened to the trit-trot, trit-trot of a pony.', 'a gig was coming along the road; it was driven by mr. mcgregor, and beside\\nhim sat mrs. mcgregor in her best bonnet.', \"as soon as they had passed, little benjamin bunny slid down into the road,\\nand set off--with a hop, skip, and a jump--to call upon his relations, who\\nlived in the wood at the back of mr. mcgregor's garden.\", \"[illustration]\\n\\n[illustration]\\n\\nthat wood was full of rabbit holes; and in the neatest, sandiest hole of\\nall lived benjamin's aunt and his cousins--flopsy, mopsy, cotton-tail, and\\npeter.\", 'old mrs. rabbit was a widow; she earned her living by knitting rabbit-wool\\nmittens and muffatees (i once bought a pair at a bazaar).', 'she also sold\\nherbs, and rosemary tea, and rabbit-tobacco (which is what we call\\nlavender).', 'little benjamin did not very much want to see his aunt.', 'he came round the back of the fir-tree, and nearly tumbled upon the top of\\nhis cousin peter.', '[illustration]\\n\\n[illustration]\\n\\npeter was sitting by himself.', 'he looked poorly, and was dressed in a red\\ncotton pocket-handkerchief.', '\"peter,\" said little benjamin, in a whisper, \"who has got your clothes?\"', 'peter replied, \"the scarecrow in mr. mcgregor\\'s garden,\" and described how\\nhe had been chased about the garden, and had dropped his shoes and coat.', 'little benjamin sat down beside his cousin and assured him that mr.\\nmcgregor had gone out in a gig, and mrs. mcgregor also; and certainly for\\nthe day, because she was wearing her best bonnet.', '[illustration]\\n\\n[illustration]\\n\\npeter said he hoped that it would rain.', 'at this point old mrs. rabbit\\'s voice was heard inside the rabbit hole,\\ncalling: \"cotton-tail!', 'cotton-tail!', 'fetch some more camomile!\"', 'peter said he thought he might feel better if he went for a walk.', 'they went away hand in hand, and got upon the flat top of the wall at the\\nbottom of the wood.', \"from here they looked down into mr. mcgregor's garden.\", \"peter's coat and shoes were plainly to be seen upon the scarecrow, topped\\nwith an old tam-o'-shanter of mr. mcgregor's.\", '[illustration]\\n\\n[illustration]\\n\\nlittle benjamin said: \"it spoils people\\'s clothes to squeeze under a gate;\\nthe proper way to get in is to climb down a pear-tree.\"', 'peter fell down head first; but it was of no consequence, as the bed below\\nwas newly raked and quite soft.', 'it had been sown with lettuces.', 'they left a great many odd little footmarks all over the bed, especially\\nlittle benjamin, who was wearing clogs.', \"[illustration]\\n\\n[illustration]\\n\\nlittle benjamin said that the first thing to be done was to get back\\npeter's clothes, in order that they might be able to use the\\npocket-handkerchief.\", 'they took them off the scarecrow.', 'there had been rain during the night;\\nthere was water in the shoes, and the coat was somewhat shrunk.', \"benjamin tried on the tam-o'-shanter, but it was too big for him.\", 'then he suggested that they should fill the pocket-handkerchief with\\nonions, as a little present for his aunt.', 'peter did not seem to be enjoying himself; he kept hearing noises.', '[illustration]\\n\\n[illustration]\\n\\n\\nbenjamin, on the contrary, was perfectly at home, and ate a lettuce leaf.', 'he said that he was in the habit of coming to the garden with his father\\nto get lettuces for their sunday dinner.', \"(the name of little benjamin's papa was old mr. benjamin bunny.)\", 'the lettuces certainly were very fine.', 'peter did not eat anything; he said he should like to go home.', 'presently\\nhe dropped half the onions.', '[illustration]\\n\\n[illustration]\\n\\nlittle benjamin said that it was not possible to get back up the pear-tree\\nwith a load of vegetables.', 'he led the way boldly towards the other end of\\nthe garden.', 'they went along a little walk on planks, under a sunny, red\\nbrick wall.', 'the mice sat on their doorsteps cracking cherry-stones; they winked at\\npeter rabbit and little benjamin bunny.', 'presently peter let the pocket-handkerchief go again.', '[illustration]\\n\\n[illustration]\\n\\nthey got amongst flower-pots, and frames, and tubs.', 'peter heard noises\\nworse than ever; his eyes were as big as lolly-pops!', 'he was a step or two in front of his cousin when he suddenly stopped.', 'this is what those little rabbits saw round that corner!', 'little benjamin took one look, and then, in half a minute less than no\\ntime, he hid himself and peter and the onions underneath a large\\nbasket....\\n\\n[illustration]\\n\\n[illustration]\\n\\nthe cat got up and stretched herself, and came and sniffed at the basket.', 'perhaps she liked the smell of onions!', 'anyway, she sat down upon the top of the basket.', 'she sat there for _five hours_.', '*       *       *       *       *\\n\\ni cannot draw you a picture of peter and benjamin underneath the basket,\\nbecause it was quite dark, and because the smell of onions was fearful; it\\nmade peter rabbit and little benjamin cry.', 'the sun got round behind the wood, and it was quite late in the afternoon;\\nbut still the cat sat upon the basket.', '[illustration]\\n\\n[illustration]\\n\\nat length there was a pitter-patter, pitter-patter, and some bits of\\nmortar fell from the wall above.', 'the cat looked up and saw old mr. benjamin bunny prancing along the top of\\nthe wall of the upper terrace.', 'he was smoking a pipe of rabbit-tobacco, and had a little switch in his\\nhand.', 'he was looking for his son.', 'old mr. bunny had no opinion whatever of cats.', 'he took a tremendous jump off the top of the wall on to the top of the\\ncat, and cuffed it off the basket, and kicked it into the greenhouse,\\nscratching off a handful of fur.', 'the cat was too much surprised to scratch back.', '[illustration]\\n\\n[illustration]\\n\\nwhen old mr. bunny had driven the cat into the greenhouse, he locked the\\ndoor.', 'then he came back to the basket and took out his son benjamin by the ears,\\nand whipped him with the little switch.', 'then he took out his nephew peter.', 'then he took out the handkerchief of onions, and marched out of the\\ngarden.', '[illustration]\\n\\nwhen mr. mcgregor returned about half an hour later he observed several\\nthings which perplexed him.', 'it looked as though some person had been walking all over the garden in a\\npair of clogs--only the footmarks were too ridiculously little!', 'also he could not understand how the cat could have managed to shut\\nherself up _inside_ the greenhouse, locking the door upon the _outside_.', '[illustration]\\n\\n[illustration]\\n\\nwhen peter got home his mother forgave him, because she was so glad to see\\nthat he had found his shoes and coat.', 'cotton-tail and peter folded up the\\npocket-handkerchief, and old mrs. rabbit strung up the onions and hung\\nthem from the kitchen ceiling, with the bunches of herbs and the\\nrabbit-tobacco.', '@the tale of benjamin bunny@beatrix potter']\n",
            "Tokenizing Words with RegexpTokenizer: ['text', 'title', 'author', 'illustration', 'one', 'morning', 'a', 'little', 'rabbit', 'sat', 'on', 'a', 'bank', 'he', 'pricked', 'his', 'ears', 'and', 'listened', 'to', 'the', 'trit', 'trot', 'trit', 'trot', 'of', 'a', 'pony', 'a', 'gig', 'was', 'coming', 'along', 'the', 'road', 'it', 'was', 'driven', 'by', 'mr', 'mcgregor', 'and', 'beside', 'him', 'sat', 'mrs', 'mcgregor', 'in', 'her', 'best', 'bonnet', 'as', 'soon', 'as', 'they', 'had', 'passed', 'little', 'benjamin', 'bunny', 'slid', 'down', 'into', 'the', 'road', 'and', 'set', 'off', 'with', 'a', 'hop', 'skip', 'and', 'a', 'jump', 'to', 'call', 'upon', 'his', 'relations', 'who', 'lived', 'in', 'the', 'wood', 'at', 'the', 'back', 'of', 'mr', 'mcgregor', 's', 'garden', 'illustration', 'illustration', 'that', 'wood', 'was', 'full', 'of', 'rabbit', 'holes', 'and', 'in', 'the', 'neatest', 'sandiest', 'hole', 'of', 'all', 'lived', 'benjamin', 's', 'aunt', 'and', 'his', 'cousins', 'flopsy', 'mopsy', 'cotton', 'tail', 'and', 'peter', 'old', 'mrs', 'rabbit', 'was', 'a', 'widow', 'she', 'earned', 'her', 'living', 'by', 'knitting', 'rabbit', 'wool', 'mittens', 'and', 'muffatees', 'i', 'once', 'bought', 'a', 'pair', 'at', 'a', 'bazaar', 'she', 'also', 'sold', 'herbs', 'and', 'rosemary', 'tea', 'and', 'rabbit', 'tobacco', 'which', 'is', 'what', 'we', 'call', 'lavender', 'little', 'benjamin', 'did', 'not', 'very', 'much', 'want', 'to', 'see', 'his', 'aunt', 'he', 'came', 'round', 'the', 'back', 'of', 'the', 'fir', 'tree', 'and', 'nearly', 'tumbled', 'upon', 'the', 'top', 'of', 'his', 'cousin', 'peter', 'illustration', 'illustration', 'peter', 'was', 'sitting', 'by', 'himself', 'he', 'looked', 'poorly', 'and', 'was', 'dressed', 'in', 'a', 'red', 'cotton', 'pocket', 'handkerchief', 'peter', 'said', 'little', 'benjamin', 'in', 'a', 'whisper', 'who', 'has', 'got', 'your', 'clothes', 'peter', 'replied', 'the', 'scarecrow', 'in', 'mr', 'mcgregor', 's', 'garden', 'and', 'described', 'how', 'he', 'had', 'been', 'chased', 'about', 'the', 'garden', 'and', 'had', 'dropped', 'his', 'shoes', 'and', 'coat', 'little', 'benjamin', 'sat', 'down', 'beside', 'his', 'cousin', 'and', 'assured', 'him', 'that', 'mr', 'mcgregor', 'had', 'gone', 'out', 'in', 'a', 'gig', 'and', 'mrs', 'mcgregor', 'also', 'and', 'certainly', 'for', 'the', 'day', 'because', 'she', 'was', 'wearing', 'her', 'best', 'bonnet', 'illustration', 'illustration', 'peter', 'said', 'he', 'hoped', 'that', 'it', 'would', 'rain', 'at', 'this', 'point', 'old', 'mrs', 'rabbit', 's', 'voice', 'was', 'heard', 'inside', 'the', 'rabbit', 'hole', 'calling', 'cotton', 'tail', 'cotton', 'tail', 'fetch', 'some', 'more', 'camomile', 'peter', 'said', 'he', 'thought', 'he', 'might', 'feel', 'better', 'if', 'he', 'went', 'for', 'a', 'walk', 'they', 'went', 'away', 'hand', 'in', 'hand', 'and', 'got', 'upon', 'the', 'flat', 'top', 'of', 'the', 'wall', 'at', 'the', 'bottom', 'of', 'the', 'wood', 'from', 'here', 'they', 'looked', 'down', 'into', 'mr', 'mcgregor', 's', 'garden', 'peter', 's', 'coat', 'and', 'shoes', 'were', 'plainly', 'to', 'be', 'seen', 'upon', 'the', 'scarecrow', 'topped', 'with', 'an', 'old', 'tam', 'o', 'shanter', 'of', 'mr', 'mcgregor', 's', 'illustration', 'illustration', 'little', 'benjamin', 'said', 'it', 'spoils', 'people', 's', 'clothes', 'to', 'squeeze', 'under', 'a', 'gate', 'the', 'proper', 'way', 'to', 'get', 'in', 'is', 'to', 'climb', 'down', 'a', 'pear', 'tree', 'peter', 'fell', 'down', 'head', 'first', 'but', 'it', 'was', 'of', 'no', 'consequence', 'as', 'the', 'bed', 'below', 'was', 'newly', 'raked', 'and', 'quite', 'soft', 'it', 'had', 'been', 'sown', 'with', 'lettuces', 'they', 'left', 'a', 'great', 'many', 'odd', 'little', 'footmarks', 'all', 'over', 'the', 'bed', 'especially', 'little', 'benjamin', 'who', 'was', 'wearing', 'clogs', 'illustration', 'illustration', 'little', 'benjamin', 'said', 'that', 'the', 'first', 'thing', 'to', 'be', 'done', 'was', 'to', 'get', 'back', 'peter', 's', 'clothes', 'in', 'order', 'that', 'they', 'might', 'be', 'able', 'to', 'use', 'the', 'pocket', 'handkerchief', 'they', 'took', 'them', 'off', 'the', 'scarecrow', 'there', 'had', 'been', 'rain', 'during', 'the', 'night', 'there', 'was', 'water', 'in', 'the', 'shoes', 'and', 'the', 'coat', 'was', 'somewhat', 'shrunk', 'benjamin', 'tried', 'on', 'the', 'tam', 'o', 'shanter', 'but', 'it', 'was', 'too', 'big', 'for', 'him', 'then', 'he', 'suggested', 'that', 'they', 'should', 'fill', 'the', 'pocket', 'handkerchief', 'with', 'onions', 'as', 'a', 'little', 'present', 'for', 'his', 'aunt', 'peter', 'did', 'not', 'seem', 'to', 'be', 'enjoying', 'himself', 'he', 'kept', 'hearing', 'noises', 'illustration', 'illustration', 'benjamin', 'on', 'the', 'contrary', 'was', 'perfectly', 'at', 'home', 'and', 'ate', 'a', 'lettuce', 'leaf', 'he', 'said', 'that', 'he', 'was', 'in', 'the', 'habit', 'of', 'coming', 'to', 'the', 'garden', 'with', 'his', 'father', 'to', 'get', 'lettuces', 'for', 'their', 'sunday', 'dinner', 'the', 'name', 'of', 'little', 'benjamin', 's', 'papa', 'was', 'old', 'mr', 'benjamin', 'bunny', 'the', 'lettuces', 'certainly', 'were', 'very', 'fine', 'peter', 'did', 'not', 'eat', 'anything', 'he', 'said', 'he', 'should', 'like', 'to', 'go', 'home', 'presently', 'he', 'dropped', 'half', 'the', 'onions', 'illustration', 'illustration', 'little', 'benjamin', 'said', 'that', 'it', 'was', 'not', 'possible', 'to', 'get', 'back', 'up', 'the', 'pear', 'tree', 'with', 'a', 'load', 'of', 'vegetables', 'he', 'led', 'the', 'way', 'boldly', 'towards', 'the', 'other', 'end', 'of', 'the', 'garden', 'they', 'went', 'along', 'a', 'little', 'walk', 'on', 'planks', 'under', 'a', 'sunny', 'red', 'brick', 'wall', 'the', 'mice', 'sat', 'on', 'their', 'doorsteps', 'cracking', 'cherry', 'stones', 'they', 'winked', 'at', 'peter', 'rabbit', 'and', 'little', 'benjamin', 'bunny', 'presently', 'peter', 'let', 'the', 'pocket', 'handkerchief', 'go', 'again', 'illustration', 'illustration', 'they', 'got', 'amongst', 'flower', 'pots', 'and', 'frames', 'and', 'tubs', 'peter', 'heard', 'noises', 'worse', 'than', 'ever', 'his', 'eyes', 'were', 'as', 'big', 'as', 'lolly', 'pops', 'he', 'was', 'a', 'step', 'or', 'two', 'in', 'front', 'of', 'his', 'cousin', 'when', 'he', 'suddenly', 'stopped', 'this', 'is', 'what', 'those', 'little', 'rabbits', 'saw', 'round', 'that', 'corner', 'little', 'benjamin', 'took', 'one', 'look', 'and', 'then', 'in', 'half', 'a', 'minute', 'less', 'than', 'no', 'time', 'he', 'hid', 'himself', 'and', 'peter', 'and', 'the', 'onions', 'underneath', 'a', 'large', 'basket', 'illustration', 'illustration', 'the', 'cat', 'got', 'up', 'and', 'stretched', 'herself', 'and', 'came', 'and', 'sniffed', 'at', 'the', 'basket', 'perhaps', 'she', 'liked', 'the', 'smell', 'of', 'onions', 'anyway', 'she', 'sat', 'down', 'upon', 'the', 'top', 'of', 'the', 'basket', 'she', 'sat', 'there', 'for', '_five', 'hours_', 'i', 'cannot', 'draw', 'you', 'a', 'picture', 'of', 'peter', 'and', 'benjamin', 'underneath', 'the', 'basket', 'because', 'it', 'was', 'quite', 'dark', 'and', 'because', 'the', 'smell', 'of', 'onions', 'was', 'fearful', 'it', 'made', 'peter', 'rabbit', 'and', 'little', 'benjamin', 'cry', 'the', 'sun', 'got', 'round', 'behind', 'the', 'wood', 'and', 'it', 'was', 'quite', 'late', 'in', 'the', 'afternoon', 'but', 'still', 'the', 'cat', 'sat', 'upon', 'the', 'basket', 'illustration', 'illustration', 'at', 'length', 'there', 'was', 'a', 'pitter', 'patter', 'pitter', 'patter', 'and', 'some', 'bits', 'of', 'mortar', 'fell', 'from', 'the', 'wall', 'above', 'the', 'cat', 'looked', 'up', 'and', 'saw', 'old', 'mr', 'benjamin', 'bunny', 'prancing', 'along', 'the', 'top', 'of', 'the', 'wall', 'of', 'the', 'upper', 'terrace', 'he', 'was', 'smoking', 'a', 'pipe', 'of', 'rabbit', 'tobacco', 'and', 'had', 'a', 'little', 'switch', 'in', 'his', 'hand', 'he', 'was', 'looking', 'for', 'his', 'son', 'old', 'mr', 'bunny', 'had', 'no', 'opinion', 'whatever', 'of', 'cats', 'he', 'took', 'a', 'tremendous', 'jump', 'off', 'the', 'top', 'of', 'the', 'wall', 'on', 'to', 'the', 'top', 'of', 'the', 'cat', 'and', 'cuffed', 'it', 'off', 'the', 'basket', 'and', 'kicked', 'it', 'into', 'the', 'greenhouse', 'scratching', 'off', 'a', 'handful', 'of', 'fur', 'the', 'cat', 'was', 'too', 'much', 'surprised', 'to', 'scratch', 'back', 'illustration', 'illustration', 'when', 'old', 'mr', 'bunny', 'had', 'driven', 'the', 'cat', 'into', 'the', 'greenhouse', 'he', 'locked', 'the', 'door', 'then', 'he', 'came', 'back', 'to', 'the', 'basket', 'and', 'took', 'out', 'his', 'son', 'benjamin', 'by', 'the', 'ears', 'and', 'whipped', 'him', 'with', 'the', 'little', 'switch', 'then', 'he', 'took', 'out', 'his', 'nephew', 'peter', 'then', 'he', 'took', 'out', 'the', 'handkerchief', 'of', 'onions', 'and', 'marched', 'out', 'of', 'the', 'garden', 'illustration', 'when', 'mr', 'mcgregor', 'returned', 'about', 'half', 'an', 'hour', 'later', 'he', 'observed', 'several', 'things', 'which', 'perplexed', 'him', 'it', 'looked', 'as', 'though', 'some', 'person', 'had', 'been', 'walking', 'all', 'over', 'the', 'garden', 'in', 'a', 'pair', 'of', 'clogs', 'only', 'the', 'footmarks', 'were', 'too', 'ridiculously', 'little', 'also', 'he', 'could', 'not', 'understand', 'how', 'the', 'cat', 'could', 'have', 'managed', 'to', 'shut', 'herself', 'up', '_inside_', 'the', 'greenhouse', 'locking', 'the', 'door', 'upon', 'the', '_outside_', 'illustration', 'illustration', 'when', 'peter', 'got', 'home', 'his', 'mother', 'forgave', 'him', 'because', 'she', 'was', 'so', 'glad', 'to', 'see', 'that', 'he', 'had', 'found', 'his', 'shoes', 'and', 'coat', 'cotton', 'tail', 'and', 'peter', 'folded', 'up', 'the', 'pocket', 'handkerchief', 'and', 'old', 'mrs', 'rabbit', 'strung', 'up', 'the', 'onions', 'and', 'hung', 'them', 'from', 'the', 'kitchen', 'ceiling', 'with', 'the', 'bunches', 'of', 'herbs', 'and', 'the', 'rabbit', 'tobacco', 'the', 'tale', 'of', 'benjamin', 'bunny', 'beatrix', 'potter']\n",
            "text title author illustration one morning a little rabbit sat on a bank he pricked his ears and listened to the trit trot trit trot of a pony a gig was coming along the road it was driven by mr mcgregor and beside him sat mrs mcgregor in her best bonnet as soon as they had passed little benjamin bunny slid down into the road and set off with a hop skip and a jump to call upon his relations who lived in the wood at the back of mr mcgregor s garden illustration illustration that wood was full of rabbit holes and in the neatest sandiest hole of all lived benjamin s aunt and his cousins flopsy mopsy cotton tail and peter old mrs rabbit was a widow she earned her living by knitting rabbit wool mittens and muffatees i once bought a pair at a bazaar she also sold herbs and rosemary tea and rabbit tobacco which is what we call lavender little benjamin did not very much want to see his aunt he came round the back of the fir tree and nearly tumbled upon the top of his cousin peter illustration illustration peter was sitting by himself he looked poorly and was dressed in a red cotton pocket handkerchief peter said little benjamin in a whisper who has got your clothes peter replied the scarecrow in mr mcgregor s garden and described how he had been chased about the garden and had dropped his shoes and coat little benjamin sat down beside his cousin and assured him that mr mcgregor had gone out in a gig and mrs mcgregor also and certainly for the day because she was wearing her best bonnet illustration illustration peter said he hoped that it would rain at this point old mrs rabbit s voice was heard inside the rabbit hole calling cotton tail cotton tail fetch some more camomile peter said he thought he might feel better if he went for a walk they went away hand in hand and got upon the flat top of the wall at the bottom of the wood from here they looked down into mr mcgregor s garden peter s coat and shoes were plainly to be seen upon the scarecrow topped with an old tam o shanter of mr mcgregor s illustration illustration little benjamin said it spoils people s clothes to squeeze under a gate the proper way to get in is to climb down a pear tree peter fell down head first but it was of no consequence as the bed below was newly raked and quite soft it had been sown with lettuces they left a great many odd little footmarks all over the bed especially little benjamin who was wearing clogs illustration illustration little benjamin said that the first thing to be done was to get back peter s clothes in order that they might be able to use the pocket handkerchief they took them off the scarecrow there had been rain during the night there was water in the shoes and the coat was somewhat shrunk benjamin tried on the tam o shanter but it was too big for him then he suggested that they should fill the pocket handkerchief with onions as a little present for his aunt peter did not seem to be enjoying himself he kept hearing noises illustration illustration benjamin on the contrary was perfectly at home and ate a lettuce leaf he said that he was in the habit of coming to the garden with his father to get lettuces for their sunday dinner the name of little benjamin s papa was old mr benjamin bunny the lettuces certainly were very fine peter did not eat anything he said he should like to go home presently he dropped half the onions illustration illustration little benjamin said that it was not possible to get back up the pear tree with a load of vegetables he led the way boldly towards the other end of the garden they went along a little walk on planks under a sunny red brick wall the mice sat on their doorsteps cracking cherry stones they winked at peter rabbit and little benjamin bunny presently peter let the pocket handkerchief go again illustration illustration they got amongst flower pots and frames and tubs peter heard noises worse than ever his eyes were as big as lolly pops he was a step or two in front of his cousin when he suddenly stopped this is what those little rabbits saw round that corner little benjamin took one look and then in half a minute less than no time he hid himself and peter and the onions underneath a large basket illustration illustration the cat got up and stretched herself and came and sniffed at the basket perhaps she liked the smell of onions anyway she sat down upon the top of the basket she sat there for _five hours_ i cannot draw you a picture of peter and benjamin underneath the basket because it was quite dark and because the smell of onions was fearful it made peter rabbit and little benjamin cry the sun got round behind the wood and it was quite late in the afternoon but still the cat sat upon the basket illustration illustration at length there was a pitter patter pitter patter and some bits of mortar fell from the wall above the cat looked up and saw old mr benjamin bunny prancing along the top of the wall of the upper terrace he was smoking a pipe of rabbit tobacco and had a little switch in his hand he was looking for his son old mr bunny had no opinion whatever of cats he took a tremendous jump off the top of the wall on to the top of the cat and cuffed it off the basket and kicked it into the greenhouse scratching off a handful of fur the cat was too much surprised to scratch back illustration illustration when old mr bunny had driven the cat into the greenhouse he locked the door then he came back to the basket and took out his son benjamin by the ears and whipped him with the little switch then he took out his nephew peter then he took out the handkerchief of onions and marched out of the garden illustration when mr mcgregor returned about half an hour later he observed several things which perplexed him it looked as though some person had been walking all over the garden in a pair of clogs only the footmarks were too ridiculously little also he could not understand how the cat could have managed to shut herself up _inside_ the greenhouse locking the door upon the _outside_ illustration illustration when peter got home his mother forgave him because she was so glad to see that he had found his shoes and coat cotton tail and peter folded up the pocket handkerchief and old mrs rabbit strung up the onions and hung them from the kitchen ceiling with the bunches of herbs and the rabbit tobacco the tale of benjamin bunny beatrix potter\n"
          ]
        }
      ]
    },
    {
      "cell_type": "markdown",
      "source": [
        "#⚠️ <font color = 'green'>**This is the end of the Script! You did a good job!** **"
      ],
      "metadata": {
        "id": "DUcWWwfGCGf7"
      }
    }
  ]
}