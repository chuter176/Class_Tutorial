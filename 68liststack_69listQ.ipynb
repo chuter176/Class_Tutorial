{
  "nbformat": 4,
  "nbformat_minor": 0,
  "metadata": {
    "colab": {
      "provenance": [],
      "authorship_tag": "ABX9TyNxrgG3w412XLRU4eFuHNnO",
      "include_colab_link": true
    },
    "kernelspec": {
      "name": "python3",
      "display_name": "Python 3"
    },
    "language_info": {
      "name": "python"
    }
  },
  "cells": [
    {
      "cell_type": "markdown",
      "metadata": {
        "id": "view-in-github",
        "colab_type": "text"
      },
      "source": [
        "<a href=\"https://colab.research.google.com/github/chuter176/Class_Tutorial/blob/main/68liststack_69listQ.ipynb\" target=\"_parent\"><img src=\"https://colab.research.google.com/assets/colab-badge.svg\" alt=\"Open In Colab\"/></a>"
      ]
    },
    {
      "cell_type": "markdown",
      "source": [
        "liststack"
      ],
      "metadata": {
        "id": "XPkr0eVRXjQC"
      }
    },
    {
      "cell_type": "code",
      "execution_count": 1,
      "metadata": {
        "id": "4VDyT453Xdfl"
      },
      "outputs": [],
      "source": [
        "mystack = []"
      ]
    },
    {
      "cell_type": "code",
      "source": [
        "def putData(data):\n",
        "  mystack.append(data)"
      ],
      "metadata": {
        "id": "sASVC4oYXr-Y"
      },
      "execution_count": 2,
      "outputs": []
    },
    {
      "cell_type": "code",
      "source": [
        "def popData():\n",
        "  if len(mystack) == 0:\n",
        "    return None\n",
        "  return mystack.pop()"
      ],
      "metadata": {
        "id": "waavxbROX086"
      },
      "execution_count": 33,
      "outputs": []
    },
    {
      "cell_type": "code",
      "source": [
        "putData('사과')\n",
        "putData([1,2,3])\n",
        "putData(3.141592)\n",
        "print(f'스택상태:{mystack}')"
      ],
      "metadata": {
        "colab": {
          "base_uri": "https://localhost:8080/"
        },
        "id": "SSCo-dgzYD9a",
        "outputId": "38f77133-d19a-4017-afec-25211ff6afca"
      },
      "execution_count": 10,
      "outputs": [
        {
          "output_type": "stream",
          "name": "stdout",
          "text": [
            "스택상태:['사과', [1, 2, 3], '사과', [1, 2, 3], '사과', [1, 2, 3], '사과', [1, 2, 3], '사과', [1, 2, 3], '사과', [1, 2, 3], 3.141592]\n"
          ]
        }
      ]
    },
    {
      "cell_type": "code",
      "source": [
        "ret = popData()\n",
        "while ret != None:\n",
        "  print(f'스택에서 데이터 추출:{ret}')\n",
        "  print(f'스택상태:{mystack}')\n",
        "  print('-------------')\n",
        "  ret = popData()"
      ],
      "metadata": {
        "colab": {
          "base_uri": "https://localhost:8080/"
        },
        "id": "waAyPSWxbCTn",
        "outputId": "b41b51d9-0b96-4c5c-9ebf-011f4882497d"
      },
      "execution_count": 34,
      "outputs": [
        {
          "output_type": "stream",
          "name": "stdout",
          "text": [
            "스택에서 데이터 추출:3.141592\n",
            "스택상태:['사과', [1, 2, 3], '사과', [1, 2, 3], '사과', [1, 2, 3], '사과', [1, 2, 3], '사과', [1, 2, 3], '사과', [1, 2, 3], 3.141592, '사과', [1, 2, 3]]\n",
            "-------------\n",
            "스택에서 데이터 추출:[1, 2, 3]\n",
            "스택상태:['사과', [1, 2, 3], '사과', [1, 2, 3], '사과', [1, 2, 3], '사과', [1, 2, 3], '사과', [1, 2, 3], '사과', [1, 2, 3], 3.141592, '사과']\n",
            "-------------\n",
            "스택에서 데이터 추출:사과\n",
            "스택상태:['사과', [1, 2, 3], '사과', [1, 2, 3], '사과', [1, 2, 3], '사과', [1, 2, 3], '사과', [1, 2, 3], '사과', [1, 2, 3], 3.141592]\n",
            "-------------\n",
            "스택에서 데이터 추출:3.141592\n",
            "스택상태:['사과', [1, 2, 3], '사과', [1, 2, 3], '사과', [1, 2, 3], '사과', [1, 2, 3], '사과', [1, 2, 3], '사과', [1, 2, 3]]\n",
            "-------------\n",
            "스택에서 데이터 추출:[1, 2, 3]\n",
            "스택상태:['사과', [1, 2, 3], '사과', [1, 2, 3], '사과', [1, 2, 3], '사과', [1, 2, 3], '사과', [1, 2, 3], '사과']\n",
            "-------------\n",
            "스택에서 데이터 추출:사과\n",
            "스택상태:['사과', [1, 2, 3], '사과', [1, 2, 3], '사과', [1, 2, 3], '사과', [1, 2, 3], '사과', [1, 2, 3]]\n",
            "-------------\n",
            "스택에서 데이터 추출:[1, 2, 3]\n",
            "스택상태:['사과', [1, 2, 3], '사과', [1, 2, 3], '사과', [1, 2, 3], '사과', [1, 2, 3], '사과']\n",
            "-------------\n",
            "스택에서 데이터 추출:사과\n",
            "스택상태:['사과', [1, 2, 3], '사과', [1, 2, 3], '사과', [1, 2, 3], '사과', [1, 2, 3]]\n",
            "-------------\n",
            "스택에서 데이터 추출:[1, 2, 3]\n",
            "스택상태:['사과', [1, 2, 3], '사과', [1, 2, 3], '사과', [1, 2, 3], '사과']\n",
            "-------------\n",
            "스택에서 데이터 추출:사과\n",
            "스택상태:['사과', [1, 2, 3], '사과', [1, 2, 3], '사과', [1, 2, 3]]\n",
            "-------------\n",
            "스택에서 데이터 추출:[1, 2, 3]\n",
            "스택상태:['사과', [1, 2, 3], '사과', [1, 2, 3], '사과']\n",
            "-------------\n",
            "스택에서 데이터 추출:사과\n",
            "스택상태:['사과', [1, 2, 3], '사과', [1, 2, 3]]\n",
            "-------------\n",
            "스택에서 데이터 추출:[1, 2, 3]\n",
            "스택상태:['사과', [1, 2, 3], '사과']\n",
            "-------------\n",
            "스택에서 데이터 추출:사과\n",
            "스택상태:['사과', [1, 2, 3]]\n",
            "-------------\n",
            "스택에서 데이터 추출:[1, 2, 3]\n",
            "스택상태:['사과']\n",
            "-------------\n",
            "스택에서 데이터 추출:사과\n",
            "스택상태:[]\n",
            "-------------\n"
          ]
        }
      ]
    },
    {
      "cell_type": "markdown",
      "source": [
        "listQ"
      ],
      "metadata": {
        "id": "yxQgeusMh5jr"
      }
    },
    {
      "cell_type": "code",
      "source": [
        "import collections\n",
        "myqueue = collections.deque([])"
      ],
      "metadata": {
        "id": "6pAwKPjodXMQ"
      },
      "execution_count": 36,
      "outputs": []
    },
    {
      "cell_type": "code",
      "source": [
        "def putData(data):\n",
        "  myqueue.append(data)"
      ],
      "metadata": {
        "id": "yyKkZr9kktb8"
      },
      "execution_count": 37,
      "outputs": []
    },
    {
      "cell_type": "code",
      "source": [
        "def popData():\n",
        "  if len(myqueue) == 0:\n",
        "    return None\n",
        "  return myqueue.popleft()"
      ],
      "metadata": {
        "id": "vjvcxMnWk2b8"
      },
      "execution_count": 38,
      "outputs": []
    },
    {
      "cell_type": "code",
      "source": [
        "putData('사과')\n",
        "putData([1,2,3])\n",
        "putData(3.141592)\n",
        "print(f'큐산태:{myqueue}')"
      ],
      "metadata": {
        "colab": {
          "base_uri": "https://localhost:8080/"
        },
        "id": "DdhRpXwGoVGe",
        "outputId": "dea83746-7155-4250-ff7f-4b45aa31f5c4"
      },
      "execution_count": 40,
      "outputs": [
        {
          "output_type": "stream",
          "name": "stdout",
          "text": [
            "큐산태:deque(['사과', [1, 2, 3], 3.141592, '사과', [1, 2, 3], 3.141592])\n"
          ]
        }
      ]
    },
    {
      "cell_type": "code",
      "source": [
        "ret = popData()\n",
        "while ret != None:\n",
        "  print(f'큐에서 데이터 추출:{ret}')\n",
        "  print(f'큐상태:{myqueue}')\n",
        "  print('-------------')\n",
        "  ret = popData()"
      ],
      "metadata": {
        "colab": {
          "base_uri": "https://localhost:8080/"
        },
        "id": "SS3tblqyotmA",
        "outputId": "0cc467e2-401a-4be8-e89d-58338b988766"
      },
      "execution_count": 41,
      "outputs": [
        {
          "output_type": "stream",
          "name": "stdout",
          "text": [
            "큐에서 데이터 추출:사과\n",
            "큐상태:deque([[1, 2, 3], 3.141592, '사과', [1, 2, 3], 3.141592])\n",
            "-------------\n",
            "큐에서 데이터 추출:[1, 2, 3]\n",
            "큐상태:deque([3.141592, '사과', [1, 2, 3], 3.141592])\n",
            "-------------\n",
            "큐에서 데이터 추출:3.141592\n",
            "큐상태:deque(['사과', [1, 2, 3], 3.141592])\n",
            "-------------\n",
            "큐에서 데이터 추출:사과\n",
            "큐상태:deque([[1, 2, 3], 3.141592])\n",
            "-------------\n",
            "큐에서 데이터 추출:[1, 2, 3]\n",
            "큐상태:deque([3.141592])\n",
            "-------------\n",
            "큐에서 데이터 추출:3.141592\n",
            "큐상태:deque([])\n",
            "-------------\n"
          ]
        }
      ]
    }
  ]
}